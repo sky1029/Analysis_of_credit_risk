{
 "cells": [
  {
   "cell_type": "markdown",
   "metadata": {},
   "source": [
    "这篇分析是根据kaggle上的一个信用卡评分项目。数据内容是信用卡用户的年龄、收入、负债情况、逾期次数以及过去两年内的违约情况等信息。项目的目标是根据这些数据建立一个预测模型，分析用户违约的概率，得到用户评分，帮助银行作出决策。此分析也可以扩展到其他领域，如预测用户流失的可能性、疾病预测等。"
   ]
  },
  {
   "cell_type": "raw",
   "metadata": {},
   "source": [
    "首先对历史用户数据进行分析，归纳出发生违约或者说坏账的用户都有哪些特征。之后在此基础上使用逻辑回归方法建立预测模型，利用预测模型转换得到用户评分，预测用户发生违约的风险高低。"
   ]
  },
  {
   "cell_type": "markdown",
   "metadata": {},
   "source": [
    "流程：\n",
    "    导入数据-数据预处理（填补缺失值、去掉异常值）-对数据进行探索分析-特征选择-建立模型-转换评分"
   ]
  },
  {
   "cell_type": "code",
   "execution_count": 1,
   "metadata": {},
   "outputs": [
    {
     "data": {
      "text/html": [
       "<div>\n",
       "<style scoped>\n",
       "    .dataframe tbody tr th:only-of-type {\n",
       "        vertical-align: middle;\n",
       "    }\n",
       "\n",
       "    .dataframe tbody tr th {\n",
       "        vertical-align: top;\n",
       "    }\n",
       "\n",
       "    .dataframe thead th {\n",
       "        text-align: right;\n",
       "    }\n",
       "</style>\n",
       "<table border=\"1\" class=\"dataframe\">\n",
       "  <thead>\n",
       "    <tr style=\"text-align: right;\">\n",
       "      <th></th>\n",
       "      <th>Unnamed: 0</th>\n",
       "      <th>SeriousDlqin2yrs</th>\n",
       "      <th>RevolvingUtilizationOfUnsecuredLines</th>\n",
       "      <th>age</th>\n",
       "      <th>NumberOfTime30-59DaysPastDueNotWorse</th>\n",
       "      <th>DebtRatio</th>\n",
       "      <th>MonthlyIncome</th>\n",
       "      <th>NumberOfOpenCreditLinesAndLoans</th>\n",
       "      <th>NumberOfTimes90DaysLate</th>\n",
       "      <th>NumberRealEstateLoansOrLines</th>\n",
       "      <th>NumberOfTime60-89DaysPastDueNotWorse</th>\n",
       "      <th>NumberOfDependents</th>\n",
       "    </tr>\n",
       "  </thead>\n",
       "  <tbody>\n",
       "    <tr>\n",
       "      <th>0</th>\n",
       "      <td>1</td>\n",
       "      <td>1</td>\n",
       "      <td>0.766127</td>\n",
       "      <td>45</td>\n",
       "      <td>2</td>\n",
       "      <td>0.802982</td>\n",
       "      <td>9120.0</td>\n",
       "      <td>13</td>\n",
       "      <td>0</td>\n",
       "      <td>6</td>\n",
       "      <td>0</td>\n",
       "      <td>2.0</td>\n",
       "    </tr>\n",
       "    <tr>\n",
       "      <th>1</th>\n",
       "      <td>2</td>\n",
       "      <td>0</td>\n",
       "      <td>0.957151</td>\n",
       "      <td>40</td>\n",
       "      <td>0</td>\n",
       "      <td>0.121876</td>\n",
       "      <td>2600.0</td>\n",
       "      <td>4</td>\n",
       "      <td>0</td>\n",
       "      <td>0</td>\n",
       "      <td>0</td>\n",
       "      <td>1.0</td>\n",
       "    </tr>\n",
       "    <tr>\n",
       "      <th>2</th>\n",
       "      <td>3</td>\n",
       "      <td>0</td>\n",
       "      <td>0.658180</td>\n",
       "      <td>38</td>\n",
       "      <td>1</td>\n",
       "      <td>0.085113</td>\n",
       "      <td>3042.0</td>\n",
       "      <td>2</td>\n",
       "      <td>1</td>\n",
       "      <td>0</td>\n",
       "      <td>0</td>\n",
       "      <td>0.0</td>\n",
       "    </tr>\n",
       "    <tr>\n",
       "      <th>3</th>\n",
       "      <td>4</td>\n",
       "      <td>0</td>\n",
       "      <td>0.233810</td>\n",
       "      <td>30</td>\n",
       "      <td>0</td>\n",
       "      <td>0.036050</td>\n",
       "      <td>3300.0</td>\n",
       "      <td>5</td>\n",
       "      <td>0</td>\n",
       "      <td>0</td>\n",
       "      <td>0</td>\n",
       "      <td>0.0</td>\n",
       "    </tr>\n",
       "    <tr>\n",
       "      <th>4</th>\n",
       "      <td>5</td>\n",
       "      <td>0</td>\n",
       "      <td>0.907239</td>\n",
       "      <td>49</td>\n",
       "      <td>1</td>\n",
       "      <td>0.024926</td>\n",
       "      <td>63588.0</td>\n",
       "      <td>7</td>\n",
       "      <td>0</td>\n",
       "      <td>1</td>\n",
       "      <td>0</td>\n",
       "      <td>0.0</td>\n",
       "    </tr>\n",
       "  </tbody>\n",
       "</table>\n",
       "</div>"
      ],
      "text/plain": [
       "   Unnamed: 0  SeriousDlqin2yrs  RevolvingUtilizationOfUnsecuredLines  age  \\\n",
       "0           1                 1                              0.766127   45   \n",
       "1           2                 0                              0.957151   40   \n",
       "2           3                 0                              0.658180   38   \n",
       "3           4                 0                              0.233810   30   \n",
       "4           5                 0                              0.907239   49   \n",
       "\n",
       "   NumberOfTime30-59DaysPastDueNotWorse  DebtRatio  MonthlyIncome  \\\n",
       "0                                     2   0.802982         9120.0   \n",
       "1                                     0   0.121876         2600.0   \n",
       "2                                     1   0.085113         3042.0   \n",
       "3                                     0   0.036050         3300.0   \n",
       "4                                     1   0.024926        63588.0   \n",
       "\n",
       "   NumberOfOpenCreditLinesAndLoans  NumberOfTimes90DaysLate  \\\n",
       "0                               13                        0   \n",
       "1                                4                        0   \n",
       "2                                2                        1   \n",
       "3                                5                        0   \n",
       "4                                7                        0   \n",
       "\n",
       "   NumberRealEstateLoansOrLines  NumberOfTime60-89DaysPastDueNotWorse  \\\n",
       "0                             6                                     0   \n",
       "1                             0                                     0   \n",
       "2                             0                                     0   \n",
       "3                             0                                     0   \n",
       "4                             1                                     0   \n",
       "\n",
       "   NumberOfDependents  \n",
       "0                 2.0  \n",
       "1                 1.0  \n",
       "2                 0.0  \n",
       "3                 0.0  \n",
       "4                 0.0  "
      ]
     },
     "execution_count": 1,
     "metadata": {},
     "output_type": "execute_result"
    }
   ],
   "source": [
    "#导入相关库和数据\n",
    "import pandas as pd\n",
    "import numpy as np\n",
    "import matplotlib.pyplot as plt\n",
    "import seaborn as sns\n",
    "plt.rcParams['font.sans-serif'] = [\"Arial Unicode MS\"]\n",
    "%matplotlib notebook\n",
    "\n",
    "path = r\"cs-training.csv\"\n",
    "df=pd.read_csv(path)\n",
    "df.head(5)"
   ]
  },
  {
   "cell_type": "code",
   "execution_count": 2,
   "metadata": {},
   "outputs": [
    {
     "name": "stdout",
     "output_type": "stream",
     "text": [
      "Index(['Unnamed: 0', 'SeriousDlqin2yrs',\n",
      "       'RevolvingUtilizationOfUnsecuredLines', 'age',\n",
      "       'NumberOfTime30-59DaysPastDueNotWorse', 'DebtRatio', 'MonthlyIncome',\n",
      "       'NumberOfOpenCreditLinesAndLoans', 'NumberOfTimes90DaysLate',\n",
      "       'NumberRealEstateLoansOrLines', 'NumberOfTime60-89DaysPastDueNotWorse',\n",
      "       'NumberOfDependents'],\n",
      "      dtype='object')\n"
     ]
    }
   ],
   "source": [
    "#字段比较多，打印出columns查看\n",
    "print(df.columns)"
   ]
  },
  {
   "cell_type": "code",
   "execution_count": 3,
   "metadata": {},
   "outputs": [
    {
     "data": {
      "text/html": [
       "<div>\n",
       "<style scoped>\n",
       "    .dataframe tbody tr th:only-of-type {\n",
       "        vertical-align: middle;\n",
       "    }\n",
       "\n",
       "    .dataframe tbody tr th {\n",
       "        vertical-align: top;\n",
       "    }\n",
       "\n",
       "    .dataframe thead th {\n",
       "        text-align: right;\n",
       "    }\n",
       "</style>\n",
       "<table border=\"1\" class=\"dataframe\">\n",
       "  <thead>\n",
       "    <tr style=\"text-align: right;\">\n",
       "      <th></th>\n",
       "      <th>用户ID</th>\n",
       "      <th>是否违约</th>\n",
       "      <th>可用额度比值</th>\n",
       "      <th>年龄</th>\n",
       "      <th>逾期30-59天次数</th>\n",
       "      <th>负债率</th>\n",
       "      <th>月收入</th>\n",
       "      <th>信贷数量</th>\n",
       "      <th>逾期90天次数</th>\n",
       "      <th>不动产贷款量</th>\n",
       "      <th>逾期60-89天次数</th>\n",
       "      <th>亲属数量</th>\n",
       "    </tr>\n",
       "  </thead>\n",
       "  <tbody>\n",
       "    <tr>\n",
       "      <th>0</th>\n",
       "      <td>1</td>\n",
       "      <td>1</td>\n",
       "      <td>0.766127</td>\n",
       "      <td>45</td>\n",
       "      <td>2</td>\n",
       "      <td>0.802982</td>\n",
       "      <td>9120.0</td>\n",
       "      <td>13</td>\n",
       "      <td>0</td>\n",
       "      <td>6</td>\n",
       "      <td>0</td>\n",
       "      <td>2.0</td>\n",
       "    </tr>\n",
       "    <tr>\n",
       "      <th>1</th>\n",
       "      <td>2</td>\n",
       "      <td>0</td>\n",
       "      <td>0.957151</td>\n",
       "      <td>40</td>\n",
       "      <td>0</td>\n",
       "      <td>0.121876</td>\n",
       "      <td>2600.0</td>\n",
       "      <td>4</td>\n",
       "      <td>0</td>\n",
       "      <td>0</td>\n",
       "      <td>0</td>\n",
       "      <td>1.0</td>\n",
       "    </tr>\n",
       "    <tr>\n",
       "      <th>2</th>\n",
       "      <td>3</td>\n",
       "      <td>0</td>\n",
       "      <td>0.658180</td>\n",
       "      <td>38</td>\n",
       "      <td>1</td>\n",
       "      <td>0.085113</td>\n",
       "      <td>3042.0</td>\n",
       "      <td>2</td>\n",
       "      <td>1</td>\n",
       "      <td>0</td>\n",
       "      <td>0</td>\n",
       "      <td>0.0</td>\n",
       "    </tr>\n",
       "    <tr>\n",
       "      <th>3</th>\n",
       "      <td>4</td>\n",
       "      <td>0</td>\n",
       "      <td>0.233810</td>\n",
       "      <td>30</td>\n",
       "      <td>0</td>\n",
       "      <td>0.036050</td>\n",
       "      <td>3300.0</td>\n",
       "      <td>5</td>\n",
       "      <td>0</td>\n",
       "      <td>0</td>\n",
       "      <td>0</td>\n",
       "      <td>0.0</td>\n",
       "    </tr>\n",
       "    <tr>\n",
       "      <th>4</th>\n",
       "      <td>5</td>\n",
       "      <td>0</td>\n",
       "      <td>0.907239</td>\n",
       "      <td>49</td>\n",
       "      <td>1</td>\n",
       "      <td>0.024926</td>\n",
       "      <td>63588.0</td>\n",
       "      <td>7</td>\n",
       "      <td>0</td>\n",
       "      <td>1</td>\n",
       "      <td>0</td>\n",
       "      <td>0.0</td>\n",
       "    </tr>\n",
       "  </tbody>\n",
       "</table>\n",
       "</div>"
      ],
      "text/plain": [
       "   用户ID  是否违约    可用额度比值  年龄  逾期30-59天次数       负债率      月收入  信贷数量  逾期90天次数  \\\n",
       "0     1     1  0.766127  45           2  0.802982   9120.0    13        0   \n",
       "1     2     0  0.957151  40           0  0.121876   2600.0     4        0   \n",
       "2     3     0  0.658180  38           1  0.085113   3042.0     2        1   \n",
       "3     4     0  0.233810  30           0  0.036050   3300.0     5        0   \n",
       "4     5     0  0.907239  49           1  0.024926  63588.0     7        0   \n",
       "\n",
       "   不动产贷款量  逾期60-89天次数  亲属数量  \n",
       "0       6           0   2.0  \n",
       "1       0           0   1.0  \n",
       "2       0           0   0.0  \n",
       "3       0           0   0.0  \n",
       "4       1           0   0.0  "
      ]
     },
     "execution_count": 3,
     "metadata": {},
     "output_type": "execute_result"
    }
   ],
   "source": [
    "#将字段名转换为中文\n",
    "states = {\"Unnamed: 0\":\"用户ID\",\n",
    "          \"SeriousDlqin2yrs\":\"是否违约\",\n",
    "          \"RevolvingUtilizationOfUnsecuredLines\":\"可用额度比值\",\n",
    "          \"age\":\"年龄\",\n",
    "          \"NumberOfTime30-59DaysPastDueNotWorse\":\"逾期30-59天次数\",\n",
    "          \"DebtRatio\":\"负债率\",\n",
    "          \"MonthlyIncome\":\"月收入\",\n",
    "          \"NumberOfOpenCreditLinesAndLoans\":\"信贷数量\",\n",
    "          \"NumberOfTimes90DaysLate\":\"逾期90天次数\",\n",
    "          \"NumberRealEstateLoansOrLines\":\"不动产贷款量\",\n",
    "          \"NumberOfTime60-89DaysPastDueNotWorse\":\"逾期60-89天次数\",\n",
    "          \"NumberOfDependents\":\"亲属数量\"}\n",
    "df.rename(columns=states, inplace=True)\n",
    "df.head(5)"
   ]
  },
  {
   "cell_type": "code",
   "execution_count": 4,
   "metadata": {},
   "outputs": [
    {
     "name": "stdout",
     "output_type": "stream",
     "text": [
      "<class 'pandas.core.frame.DataFrame'>\n",
      "RangeIndex: 150000 entries, 0 to 149999\n",
      "Data columns (total 12 columns):\n",
      "用户ID          150000 non-null int64\n",
      "是否违约          150000 non-null int64\n",
      "可用额度比值        150000 non-null float64\n",
      "年龄            150000 non-null int64\n",
      "逾期30-59天次数    150000 non-null int64\n",
      "负债率           150000 non-null float64\n",
      "月收入           120269 non-null float64\n",
      "信贷数量          150000 non-null int64\n",
      "逾期90天次数       150000 non-null int64\n",
      "不动产贷款量        150000 non-null int64\n",
      "逾期60-89天次数    150000 non-null int64\n",
      "亲属数量          146076 non-null float64\n",
      "dtypes: float64(4), int64(8)\n",
      "memory usage: 13.7 MB\n"
     ]
    }
   ],
   "source": [
    "#数据预处理\n",
    "#缺失值处理\n",
    "df.info()"
   ]
  },
  {
   "cell_type": "code",
   "execution_count": 5,
   "metadata": {},
   "outputs": [
    {
     "name": "stdout",
     "output_type": "stream",
     "text": [
      "月收入缺失比例：19.82%\n",
      "亲属数量缺失比例：2.62%\n"
     ]
    }
   ],
   "source": [
    "#输出结果显示月收入和亲属数量有缺失\n",
    "print(\"月收入缺失比例：%.2f%%\" %((150000-120269)/150000*100))\n",
    "print(\"亲属数量缺失比例：%.2f%%\" %((150000-146076)/150000*100))"
   ]
  },
  {
   "cell_type": "code",
   "execution_count": 6,
   "metadata": {},
   "outputs": [
    {
     "data": {
      "text/plain": [
       "(146076, 12)"
      ]
     },
     "execution_count": 6,
     "metadata": {},
     "output_type": "execute_result"
    }
   ],
   "source": [
    "#月收入缺失比例高，用平均值填充，亲属数量缺失比例低，删除\n",
    "df = df.fillna({\"月收入\":df[\"月收入\"].mean()})\n",
    "df = df.dropna()\n",
    "df.shape"
   ]
  },
  {
   "cell_type": "code",
   "execution_count": 7,
   "metadata": {
    "scrolled": false
   },
   "outputs": [
    {
     "data": {
      "text/plain": [
       "0    136229\n",
       "1      9847\n",
       "Name: 是否违约, dtype: int64"
      ]
     },
     "execution_count": 7,
     "metadata": {},
     "output_type": "execute_result"
    },
    {
     "data": {
      "image/png": "[encoded data removed]",
      "text/plain": [
       "<Figure size 480x480 with 4 Axes>"
      ]
     },
     "metadata": {
      "needs_background": "light"
     },
     "output_type": "display_data"
    }
   ],
   "source": [
    "#用箱线图查看是否存在异常值\n",
    "\n",
    "\n",
    "x1 = df[\"可用额度比值\"]\n",
    "x2 = df[\"负债率\"]\n",
    "x3 = df[\"年龄\"]\n",
    "x4 = df[\"逾期30-59天次数\"]\n",
    "x5 = df[\"逾期60-89天次数\"]\n",
    "x6 = df[\"逾期90天次数\"]\n",
    "x7 = df[\"信贷数量\"]\n",
    "x8 = df[\"不动产贷款量\"]\n",
    "\n",
    "fig = plt.figure(figsize=(8,8),dpi=60)\n",
    "ax1 = fig.add_subplot(2,2,1)\n",
    "ax2 = fig.add_subplot(2,2,2)\n",
    "ax3 = fig.add_subplot(2,2,3)\n",
    "ax4 = fig.add_subplot(2,2,4)\n",
    "\n",
    "ax1.boxplot([x1,x2])\n",
    "ax1.set_xticklabels([\"可用额度比值\",\"负债率\"],fontsize=10)\n",
    "ax2.boxplot(x3)\n",
    "ax2.set_xlabel(\"年龄\",fontsize=10)\n",
    "ax3.boxplot([x4,x5,x6])\n",
    "ax3.set_xticklabels([\"逾期30-59天次数\",\"逾期60-89天次数\",\"逾期90天次数\"],fontsize=10)\n",
    "ax4.boxplot([x7,x8])\n",
    "ax4.set_xticklabels([\"信贷数量\",\"不动产贷款量\"],fontsize=10)\n",
    "\n",
    "#查看”好坏用户“列是否有1和0以外的值\n",
    "df[\"是否违约\"].value_counts()"
   ]
  },
  {
   "cell_type": "code",
   "execution_count": 8,
   "metadata": {},
   "outputs": [
    {
     "data": {
      "text/plain": [
       "(142559, 12)"
      ]
     },
     "execution_count": 8,
     "metadata": {},
     "output_type": "execute_result"
    }
   ],
   "source": [
    "#可用额度比值是信用卡可用额度和总额度之比，不应大于1，将大于1的数据删除\n",
    "#年龄不应为0\n",
    "#逾期次数大于80的为异常值，删除\n",
    "#不动产贷款量大于50的为异常值，删除\n",
    "df = df[df[\"可用额度比值\"]<1]\n",
    "df = df[df[\"年龄\"]>0]\n",
    "df = df[df[\"逾期30-59天次数\"]<80]\n",
    "df = df[df[\"逾期60-89天次数\"]<80]\n",
    "df = df[df[\"逾期90天次数\"]<80]\n",
    "df = df[df[\"不动产贷款量\"]<50]\n",
    "df.shape"
   ]
  },
  {
   "cell_type": "markdown",
   "metadata": {},
   "source": [
    "探索分析\n",
    "单变量分析针对各指标进行分析，看违约客户与哪些指标有关。"
   ]
  },
  {
   "cell_type": "code",
   "execution_count": 9,
   "metadata": {
    "scrolled": false
   },
   "outputs": [
    {
     "name": "stdout",
     "output_type": "stream",
     "text": [
      "违约客户占比：5.96%\n"
     ]
    },
    {
     "data": {
      "image/png": "[encoded data removed]",
      "text/plain": [
       "<Figure size 432x288 with 1 Axes>"
      ]
     },
     "metadata": {
      "needs_background": "light"
     },
     "output_type": "display_data"
    }
   ],
   "source": [
    "#单变量分析\n",
    "#查看客户违约整体情况\n",
    "grouped = df[\"用户ID\"].groupby(df[\"是否违约\"]).count()\n",
    "grouped.plot.bar()\n",
    "print(\"违约客户占比：%.2f%%\" %(grouped[1]/df.shape[0]*100))"
   ]
  },
  {
   "cell_type": "code",
   "execution_count": 10,
   "metadata": {
    "scrolled": true
   },
   "outputs": [
    {
     "data": {
      "text/plain": [
       "Text(0.5, 1.0, '年龄分布')"
      ]
     },
     "execution_count": 10,
     "metadata": {},
     "output_type": "execute_result"
    },
    {
     "data": {
      "image/png": "[encoded data removed]",
      "text/plain": [
       "<Figure size 432x288 with 1 Axes>"
      ]
     },
     "metadata": {
      "needs_background": "light"
     },
     "output_type": "display_data"
    }
   ],
   "source": [
    "#分析年龄与客户违约有无关系。\n",
    "#先看一下年龄的分布\n",
    "plt.figure()\n",
    "ax10 = sns.distplot(df[\"年龄\"],bins=25)\n",
    "ax10.set_title(\"年龄分布\")"
   ]
  },
  {
   "cell_type": "code",
   "execution_count": 11,
   "metadata": {},
   "outputs": [
    {
     "data": {
      "text/html": [
       "<div>\n",
       "<style scoped>\n",
       "    .dataframe tbody tr th:only-of-type {\n",
       "        vertical-align: middle;\n",
       "    }\n",
       "\n",
       "    .dataframe tbody tr th {\n",
       "        vertical-align: top;\n",
       "    }\n",
       "\n",
       "    .dataframe thead th {\n",
       "        text-align: right;\n",
       "    }\n",
       "</style>\n",
       "<table border=\"1\" class=\"dataframe\">\n",
       "  <thead>\n",
       "    <tr style=\"text-align: right;\">\n",
       "      <th></th>\n",
       "      <th>客户总数</th>\n",
       "      <th>违约客户数</th>\n",
       "      <th>正常客户数</th>\n",
       "      <th>违约客户占比</th>\n",
       "    </tr>\n",
       "    <tr>\n",
       "      <th>年龄</th>\n",
       "      <th></th>\n",
       "      <th></th>\n",
       "      <th></th>\n",
       "      <th></th>\n",
       "    </tr>\n",
       "  </thead>\n",
       "  <tbody>\n",
       "    <tr>\n",
       "      <th>(20.914, 38.2]</th>\n",
       "      <td>26984</td>\n",
       "      <td>2478</td>\n",
       "      <td>24506</td>\n",
       "      <td>0.091832</td>\n",
       "    </tr>\n",
       "    <tr>\n",
       "      <th>(38.2, 55.4]</th>\n",
       "      <td>56660</td>\n",
       "      <td>4067</td>\n",
       "      <td>52593</td>\n",
       "      <td>0.071779</td>\n",
       "    </tr>\n",
       "    <tr>\n",
       "      <th>(55.4, 72.6]</th>\n",
       "      <td>45709</td>\n",
       "      <td>1664</td>\n",
       "      <td>44045</td>\n",
       "      <td>0.036404</td>\n",
       "    </tr>\n",
       "    <tr>\n",
       "      <th>(72.6, 89.8]</th>\n",
       "      <td>12640</td>\n",
       "      <td>273</td>\n",
       "      <td>12367</td>\n",
       "      <td>0.021598</td>\n",
       "    </tr>\n",
       "    <tr>\n",
       "      <th>(89.8, 107.0]</th>\n",
       "      <td>566</td>\n",
       "      <td>12</td>\n",
       "      <td>554</td>\n",
       "      <td>0.021201</td>\n",
       "    </tr>\n",
       "  </tbody>\n",
       "</table>\n",
       "</div>"
      ],
      "text/plain": [
       "                 客户总数  违约客户数  正常客户数    违约客户占比\n",
       "年龄                                           \n",
       "(20.914, 38.2]  26984   2478  24506  0.091832\n",
       "(38.2, 55.4]    56660   4067  52593  0.071779\n",
       "(55.4, 72.6]    45709   1664  44045  0.036404\n",
       "(72.6, 89.8]    12640    273  12367  0.021598\n",
       "(89.8, 107.0]     566     12    554  0.021201"
      ]
     },
     "execution_count": 11,
     "metadata": {},
     "output_type": "execute_result"
    }
   ],
   "source": [
    "#将年龄平均分成5组，观察每组的违约客户数和占比\n",
    "age_group = pd.cut(df[\"年龄\"],5)\n",
    "age_group_total = df[\"是否违约\"].groupby(age_group).count() #每组总人数\n",
    "age_group_bad = df[\"是否违约\"].groupby(age_group).sum() #每组中坏客户人数\n",
    "df1 = pd.merge(pd.DataFrame(age_group_total),pd.DataFrame(age_group_bad),\n",
    "              left_index=True,right_index=True)\n",
    "df1.rename(columns={\"是否违约_x\":\"客户总数\",\"是否违约_y\":\"违约客户数\"},inplace=True)\n",
    "df1.insert(2,\"正常客户数\",df1[\"客户总数\"]-df1[\"违约客户数\"])\n",
    "df1.insert(3,\"违约客户占比\",df1[\"违约客户数\"]/df1[\"客户总数\"])\n",
    "df1"
   ]
  },
  {
   "cell_type": "code",
   "execution_count": 12,
   "metadata": {
    "scrolled": false
   },
   "outputs": [
    {
     "data": {
      "text/plain": [
       "Text(0.5, 1.0, '年龄与客户数分布')"
      ]
     },
     "execution_count": 12,
     "metadata": {},
     "output_type": "execute_result"
    },
    {
     "data": {
      "image/png": "[encoded data removed]",
      "text/plain": [
       "<Figure size 432x288 with 1 Axes>"
      ]
     },
     "metadata": {
      "needs_background": "light"
     },
     "output_type": "display_data"
    }
   ],
   "source": [
    "ax11 = df1[[\"正常客户数\",\"违约客户数\"]].plot.bar()\n",
    "ax11.set_xticklabels(df1.index,rotation=30,fontsize=8)\n",
    "ax11.set_xlabel(\"年龄分组\")\n",
    "ax11.set_ylabel(\"客户数\")\n",
    "ax11.set_title(\"年龄与客户数分布\")"
   ]
  },
  {
   "cell_type": "code",
   "execution_count": 13,
   "metadata": {
    "scrolled": true
   },
   "outputs": [
    {
     "data": {
      "text/plain": [
       "Text(0.5, 1.0, '违约客户占比随年龄的变化趋势')"
      ]
     },
     "execution_count": 13,
     "metadata": {},
     "output_type": "execute_result"
    },
    {
     "data": {
      "image/png": "[encoded data removed]",
      "text/plain": [
       "<Figure size 600x300 with 1 Axes>"
      ]
     },
     "metadata": {
      "needs_background": "light"
     },
     "output_type": "display_data"
    }
   ],
   "source": [
    "#折线图观察违约客户占比随年龄变化趋势\n",
    "plt.figure(figsize=(10,5),dpi=60)\n",
    "ax12 = df1[\"违约客户占比\"].plot()\n",
    "ax12.set_ylabel(\"违约客户占比\")\n",
    "ax12.set_title(\"违约客户占比随年龄的变化趋势\")"
   ]
  },
  {
   "cell_type": "markdown",
   "metadata": {},
   "source": [
    "可以看出，在38-55岁这个区间的客户人数最多，其中正常客户和违约客户的人数均为最高。随着年龄增长，违约客户占比逐渐降低，在38-72岁这个区间，降低幅度最大。"
   ]
  },
  {
   "cell_type": "code",
   "execution_count": 14,
   "metadata": {
    "scrolled": false
   },
   "outputs": [
    {
     "data": {
      "text/plain": [
       "Text(0, 0.5, '月收入')"
      ]
     },
     "execution_count": 14,
     "metadata": {},
     "output_type": "execute_result"
    },
    {
     "data": {
      "image/png": "[encoded data removed]",
      "text/plain": [
       "<Figure size 432x288 with 1 Axes>"
      ]
     },
     "metadata": {
      "needs_background": "light"
     },
     "output_type": "display_data"
    }
   ],
   "source": [
    "#分析月收入与客户违约是否有关系\n",
    "#查看收入的分布情况\n",
    "fig = plt.figure()\n",
    "ax21 = fig.add_subplot(111) \n",
    "ax21.scatter(df[\"用户ID\"],df[\"月收入\"],s=1)\n",
    "plt.grid()\n",
    "ax21.set_title(\"月收入分布\")\n",
    "ax21.set_xlabel(\"用户ID\")\n",
    "ax21.set_ylabel(\"月收入\")"
   ]
  },
  {
   "cell_type": "code",
   "execution_count": 15,
   "metadata": {
    "scrolled": true
   },
   "outputs": [
    {
     "data": {
      "text/plain": [
       "Text(0.5, 1.0, '100000以内月收入分布')"
      ]
     },
     "execution_count": 15,
     "metadata": {},
     "output_type": "execute_result"
    },
    {
     "data": {
      "image/png": "[encoded data removed]",
      "text/plain": [
       "<Figure size 432x288 with 1 Axes>"
      ]
     },
     "metadata": {
      "needs_background": "light"
     },
     "output_type": "display_data"
    }
   ],
   "source": [
    "#可以看出月收入基本上都位于0-100000的区间内，为了看得更详细，我们再查看收入在0-100000区间内的分布情况\n",
    "df2 = df[df[\"月收入\"]<=100000]\n",
    "plt.figure()\n",
    "ax22 = sns.distplot(df2[\"月收入\"],bins=50)\n",
    "ax22.set_title(\"100000以内月收入分布\")"
   ]
  },
  {
   "cell_type": "code",
   "execution_count": 16,
   "metadata": {},
   "outputs": [
    {
     "data": {
      "text/html": [
       "<div>\n",
       "<style scoped>\n",
       "    .dataframe tbody tr th:only-of-type {\n",
       "        vertical-align: middle;\n",
       "    }\n",
       "\n",
       "    .dataframe tbody tr th {\n",
       "        vertical-align: top;\n",
       "    }\n",
       "\n",
       "    .dataframe thead th {\n",
       "        text-align: right;\n",
       "    }\n",
       "</style>\n",
       "<table border=\"1\" class=\"dataframe\">\n",
       "  <thead>\n",
       "    <tr style=\"text-align: right;\">\n",
       "      <th></th>\n",
       "      <th>客户总数</th>\n",
       "      <th>违约客户数</th>\n",
       "      <th>正常客户数</th>\n",
       "      <th>违约客户占比</th>\n",
       "    </tr>\n",
       "    <tr>\n",
       "      <th>月收入</th>\n",
       "      <th></th>\n",
       "      <th></th>\n",
       "      <th></th>\n",
       "      <th></th>\n",
       "    </tr>\n",
       "  </thead>\n",
       "  <tbody>\n",
       "    <tr>\n",
       "      <th>(0, 5000]</th>\n",
       "      <td>52400</td>\n",
       "      <td>3989</td>\n",
       "      <td>48411</td>\n",
       "      <td>0.076126</td>\n",
       "    </tr>\n",
       "    <tr>\n",
       "      <th>(5000, 10000]</th>\n",
       "      <td>70482</td>\n",
       "      <td>3713</td>\n",
       "      <td>66769</td>\n",
       "      <td>0.052680</td>\n",
       "    </tr>\n",
       "    <tr>\n",
       "      <th>(10000, 15000]</th>\n",
       "      <td>12875</td>\n",
       "      <td>509</td>\n",
       "      <td>12366</td>\n",
       "      <td>0.039534</td>\n",
       "    </tr>\n",
       "    <tr>\n",
       "      <th>(15000, 20000]</th>\n",
       "      <td>3128</td>\n",
       "      <td>119</td>\n",
       "      <td>3009</td>\n",
       "      <td>0.038043</td>\n",
       "    </tr>\n",
       "    <tr>\n",
       "      <th>(20000, 40000]</th>\n",
       "      <td>1628</td>\n",
       "      <td>80</td>\n",
       "      <td>1548</td>\n",
       "      <td>0.049140</td>\n",
       "    </tr>\n",
       "    <tr>\n",
       "      <th>(40000, 100000]</th>\n",
       "      <td>374</td>\n",
       "      <td>23</td>\n",
       "      <td>351</td>\n",
       "      <td>0.061497</td>\n",
       "    </tr>\n",
       "    <tr>\n",
       "      <th>(100000, 3000000]</th>\n",
       "      <td>68</td>\n",
       "      <td>3</td>\n",
       "      <td>65</td>\n",
       "      <td>0.044118</td>\n",
       "    </tr>\n",
       "  </tbody>\n",
       "</table>\n",
       "</div>"
      ],
      "text/plain": [
       "                    客户总数  违约客户数  正常客户数    违约客户占比\n",
       "月收入                                             \n",
       "(0, 5000]          52400   3989  48411  0.076126\n",
       "(5000, 10000]      70482   3713  66769  0.052680\n",
       "(10000, 15000]     12875    509  12366  0.039534\n",
       "(15000, 20000]      3128    119   3009  0.038043\n",
       "(20000, 40000]      1628     80   1548  0.049140\n",
       "(40000, 100000]      374     23    351  0.061497\n",
       "(100000, 3000000]     68      3     65  0.044118"
      ]
     },
     "execution_count": 16,
     "metadata": {},
     "output_type": "execute_result"
    }
   ],
   "source": [
    "#参考以上月收入的分布情况，我们按照月收入对客户进行分组\n",
    "income_bins = [0,5000,10000,15000,20000,40000,100000,3000000]\n",
    "income_cut = pd.cut(df[\"月收入\"],income_bins)\n",
    "income_cut_grouped = df[\"是否违约\"].groupby(income_cut).count()\n",
    "income_cut_grouped_bad = df[\"是否违约\"].groupby(income_cut).sum()\n",
    "df3 = pd.merge(pd.DataFrame(income_cut_grouped),\n",
    "              pd.DataFrame(income_cut_grouped_bad),\n",
    "              left_index=True,right_index=True)\n",
    "df3.rename(columns={\"是否违约_x\":\"客户总数\",\"是否违约_y\":\"违约客户数\"},inplace=True)\n",
    "df3.insert(2,\"正常客户数\",df3[\"客户总数\"]-df3[\"违约客户数\"])\n",
    "df3.insert(3,\"违约客户占比\",df3[\"违约客户数\"]/df3[\"客户总数\"])\n",
    "df3"
   ]
  },
  {
   "cell_type": "code",
   "execution_count": 17,
   "metadata": {
    "scrolled": false
   },
   "outputs": [
    {
     "data": {
      "text/plain": [
       "Text(0.5, 1.0, '月收入与客户数分布')"
      ]
     },
     "execution_count": 17,
     "metadata": {},
     "output_type": "execute_result"
    },
    {
     "data": {
      "image/png": "[encoded data removed]",
      "text/plain": [
       "<Figure size 432x288 with 1 Axes>"
      ]
     },
     "metadata": {
      "needs_background": "light"
     },
     "output_type": "display_data"
    }
   ],
   "source": [
    "ax23 = df3[[\"正常客户数\",\"违约客户数\"]].plot.bar()\n",
    "ax23.set_xticklabels(df3.index,rotation=30,fontsize=7)\n",
    "ax23.set_xlabel(\"月收入\")\n",
    "ax23.set_ylabel(\"客户数\")\n",
    "ax23.set_title(\"月收入与客户数分布\")"
   ]
  },
  {
   "cell_type": "code",
   "execution_count": 18,
   "metadata": {
    "scrolled": false
   },
   "outputs": [
    {
     "data": {
      "text/plain": [
       "Text(0.5, 1.0, '违约客户占比随收入变化情况')"
      ]
     },
     "execution_count": 18,
     "metadata": {},
     "output_type": "execute_result"
    },
    {
     "data": {
      "image/png": "[encoded data removed]",
      "text/plain": [
       "<Figure size 600x300 with 1 Axes>"
      ]
     },
     "metadata": {
      "needs_background": "light"
     },
     "output_type": "display_data"
    }
   ],
   "source": [
    "#折线图观察违约客户占比随月收入变化趋势\n",
    "plt.figure(figsize=(10,5),dpi=60)\n",
    "ax24 = df3[\"违约客户占比\"].plot()\n",
    "ax24.set_ylabel(\"违约客户占比\")\n",
    "ax24.set_title(\"违约客户占比随收入变化情况\")"
   ]
  },
  {
   "cell_type": "markdown",
   "metadata": {},
   "source": [
    "可以看出，客户人数主要集中在收入10000以下的群体中。在0-15000的收入区间内，违约客户占比随收入增加有明显下降，在15000-20000的区间内，下降趋势变缓。在20000-100000的区间内，违约客户占比又明显升高。可能是因为在0-15000收入区间内的群体，收入来源比较固定，随着收入增加，偿还能力提高，违约率会下降。而收入在20000-100000内的群体，大多不是从事普通工作，收入来源相对不太稳定，会出现违约率升高的情况。而收入在100000-300000内的群体，由于人数非常少，不足以从中得出趋势变化结论。"
   ]
  },
  {
   "cell_type": "code",
   "execution_count": 19,
   "metadata": {},
   "outputs": [
    {
     "data": {
      "text/plain": [
       "Text(0, 0.5, '亲属数量')"
      ]
     },
     "execution_count": 19,
     "metadata": {},
     "output_type": "execute_result"
    },
    {
     "data": {
      "image/png": "[encoded data removed]",
      "text/plain": [
       "<Figure size 432x288 with 1 Axes>"
      ]
     },
     "metadata": {
      "needs_background": "light"
     },
     "output_type": "display_data"
    }
   ],
   "source": [
    "#分析亲属数量与违约客户占比是否有关系\n",
    "#先观察亲属数量分布情况\n",
    "fig = plt.figure()\n",
    "ax31 = fig.add_subplot(111)\n",
    "ax31.scatter(df[\"用户ID\"],df[\"亲属数量\"],s=1)\n",
    "ax31.set_title(\"亲属数量分布\")\n",
    "ax31.set_xlabel(\"用户ID\")\n",
    "ax31.set_ylabel(\"亲属数量\")"
   ]
  },
  {
   "cell_type": "code",
   "execution_count": 20,
   "metadata": {},
   "outputs": [
    {
     "data": {
      "text/html": [
       "<div>\n",
       "<style scoped>\n",
       "    .dataframe tbody tr th:only-of-type {\n",
       "        vertical-align: middle;\n",
       "    }\n",
       "\n",
       "    .dataframe tbody tr th {\n",
       "        vertical-align: top;\n",
       "    }\n",
       "\n",
       "    .dataframe thead th {\n",
       "        text-align: right;\n",
       "    }\n",
       "</style>\n",
       "<table border=\"1\" class=\"dataframe\">\n",
       "  <thead>\n",
       "    <tr style=\"text-align: right;\">\n",
       "      <th></th>\n",
       "      <th>客户总数</th>\n",
       "      <th>违约客户数</th>\n",
       "      <th>正常客户数</th>\n",
       "      <th>违约客户占比</th>\n",
       "    </tr>\n",
       "    <tr>\n",
       "      <th>亲属数量</th>\n",
       "      <th></th>\n",
       "      <th></th>\n",
       "      <th></th>\n",
       "      <th></th>\n",
       "    </tr>\n",
       "  </thead>\n",
       "  <tbody>\n",
       "    <tr>\n",
       "      <th>[0, 1)</th>\n",
       "      <td>84986</td>\n",
       "      <td>4392</td>\n",
       "      <td>80594</td>\n",
       "      <td>0.051679</td>\n",
       "    </tr>\n",
       "    <tr>\n",
       "      <th>[1, 2)</th>\n",
       "      <td>25652</td>\n",
       "      <td>1675</td>\n",
       "      <td>23977</td>\n",
       "      <td>0.065297</td>\n",
       "    </tr>\n",
       "    <tr>\n",
       "      <th>[2, 3)</th>\n",
       "      <td>18979</td>\n",
       "      <td>1360</td>\n",
       "      <td>17619</td>\n",
       "      <td>0.071658</td>\n",
       "    </tr>\n",
       "    <tr>\n",
       "      <th>[3, 4)</th>\n",
       "      <td>9220</td>\n",
       "      <td>735</td>\n",
       "      <td>8485</td>\n",
       "      <td>0.079718</td>\n",
       "    </tr>\n",
       "    <tr>\n",
       "      <th>[4, 5)</th>\n",
       "      <td>2764</td>\n",
       "      <td>247</td>\n",
       "      <td>2517</td>\n",
       "      <td>0.089363</td>\n",
       "    </tr>\n",
       "    <tr>\n",
       "      <th>[5, 20)</th>\n",
       "      <td>957</td>\n",
       "      <td>85</td>\n",
       "      <td>872</td>\n",
       "      <td>0.088819</td>\n",
       "    </tr>\n",
       "  </tbody>\n",
       "</table>\n",
       "</div>"
      ],
      "text/plain": [
       "          客户总数  违约客户数  正常客户数    违约客户占比\n",
       "亲属数量                                  \n",
       "[0, 1)   84986   4392  80594  0.051679\n",
       "[1, 2)   25652   1675  23977  0.065297\n",
       "[2, 3)   18979   1360  17619  0.071658\n",
       "[3, 4)    9220    735   8485  0.079718\n",
       "[4, 5)    2764    247   2517  0.089363\n",
       "[5, 20)    957     85    872  0.088819"
      ]
     },
     "execution_count": 20,
     "metadata": {},
     "output_type": "execute_result"
    }
   ],
   "source": [
    "depend_bins = [0,1,2,3,4,5,20]\n",
    "depend_cut = pd.cut(df[\"亲属数量\"],depend_bins,right=False)\n",
    "depend_cut_grouped = df[\"是否违约\"].groupby(depend_cut).count()\n",
    "depend_cut_grouped_bad = df[\"是否违约\"].groupby(depend_cut).sum()\n",
    "df4 = pd.merge(pd.DataFrame(depend_cut_grouped),\n",
    "              pd.DataFrame(depend_cut_grouped_bad),\n",
    "              left_index=True, right_index=True)\n",
    "df4.rename(columns={\"是否违约_x\":\"客户总数\",\"是否违约_y\":\"违约客户数\"},inplace=True)\n",
    "df4.insert(2,\"正常客户数\",df4[\"客户总数\"]-df4[\"违约客户数\"])\n",
    "df4.insert(3,\"违约客户占比\",df4[\"违约客户数\"]/df4[\"客户总数\"])\n",
    "df4"
   ]
  },
  {
   "cell_type": "code",
   "execution_count": 21,
   "metadata": {
    "scrolled": false
   },
   "outputs": [
    {
     "data": {
      "text/plain": [
       "Text(0.5, 1.0, '亲属数量与客户数分布')"
      ]
     },
     "execution_count": 21,
     "metadata": {},
     "output_type": "execute_result"
    },
    {
     "data": {
      "image/png": "[encoded data removed]",
      "text/plain": [
       "<Figure size 432x288 with 1 Axes>"
      ]
     },
     "metadata": {
      "needs_background": "light"
     },
     "output_type": "display_data"
    }
   ],
   "source": [
    "ax32 = df4[[\"正常客户数\",\"违约客户数\"]].plot.bar()\n",
    "ax32.set_xticklabels(df4.index,rotation=30,fontsize=8)\n",
    "ax32.set_ylabel(\"客户数\")\n",
    "ax32.set_title(\"亲属数量与客户数分布\")"
   ]
  },
  {
   "cell_type": "code",
   "execution_count": 22,
   "metadata": {},
   "outputs": [
    {
     "data": {
      "text/plain": [
       "Text(0.5, 1.0, '违约客户占比随亲属数量变化情况')"
      ]
     },
     "execution_count": 22,
     "metadata": {},
     "output_type": "execute_result"
    },
    {
     "data": {
      "image/png": "[encoded data removed]",
      "text/plain": [
       "<Figure size 600x300 with 1 Axes>"
      ]
     },
     "metadata": {
      "needs_background": "light"
     },
     "output_type": "display_data"
    }
   ],
   "source": [
    "plt.figure(figsize=(10,5),dpi=60)\n",
    "ax33 = df4[\"违约客户占比\"].plot()\n",
    "ax33.set_ylabel(\"违约客户占比\")\n",
    "ax33.set_title(\"违约客户占比随亲属数量变化情况\")"
   ]
  },
  {
   "cell_type": "markdown",
   "metadata": {},
   "source": [
    "客户的亲属数量绝大多数在4个以内。随着亲属数量增多，违约客户占比增大，当亲属数量达到5个以上时，违约比例不再有明显的上升。可以理解为，亲属数量增多的话，家庭支出更多，因此还不上借款的风险增加。"
   ]
  },
  {
   "cell_type": "code",
   "execution_count": 23,
   "metadata": {
    "scrolled": false
   },
   "outputs": [
    {
     "data": {
      "text/plain": [
       "Text(0.5, 1.0, '逾期90天次数分布')"
      ]
     },
     "execution_count": 23,
     "metadata": {},
     "output_type": "execute_result"
    },
    {
     "data": {
      "image/png": "[encoded data removed]",
      "text/plain": [
       "<Figure size 576x576 with 3 Axes>"
      ]
     },
     "metadata": {
      "needs_background": "light"
     },
     "output_type": "display_data"
    }
   ],
   "source": [
    "#分析逾期情况与客户违约是否有关\n",
    "#逾期次数分布\n",
    "fig = plt.figure(figsize=(8,8))\n",
    "ax41 = fig.add_subplot(2,2,1)\n",
    "ax42 = fig.add_subplot(2,2,2)\n",
    "ax43 = fig.add_subplot(2,2,3)\n",
    "\n",
    "ax41.scatter(df[\"用户ID\"],df[\"逾期30-59天次数\"],s=1)\n",
    "ax41.set_xlabel(\"用户ID\",fontsize=8)\n",
    "ax41.set_title(\"逾期30-59天次数分布\",fontsize=8)\n",
    "ax42.scatter(df[\"用户ID\"],df[\"逾期60-89天次数\"],s=1)\n",
    "ax42.set_xlabel(\"用户ID\",fontsize=8)\n",
    "ax42.set_title(\"逾期60-89天次数分布\",fontsize=8)\n",
    "ax43.scatter(df[\"用户ID\"],df[\"逾期90天次数\"],s=1)\n",
    "ax43.set_xlabel(\"用户ID\",fontsize=8)\n",
    "ax43.set_title(\"逾期90天次数分布\",fontsize=8)"
   ]
  },
  {
   "cell_type": "code",
   "execution_count": 24,
   "metadata": {
    "scrolled": true
   },
   "outputs": [
    {
     "data": {
      "text/html": [
       "<div>\n",
       "<style scoped>\n",
       "    .dataframe tbody tr th:only-of-type {\n",
       "        vertical-align: middle;\n",
       "    }\n",
       "\n",
       "    .dataframe tbody tr th {\n",
       "        vertical-align: top;\n",
       "    }\n",
       "\n",
       "    .dataframe thead th {\n",
       "        text-align: right;\n",
       "    }\n",
       "</style>\n",
       "<table border=\"1\" class=\"dataframe\">\n",
       "  <thead>\n",
       "    <tr style=\"text-align: right;\">\n",
       "      <th></th>\n",
       "      <th>客户总数</th>\n",
       "      <th>违约客户数</th>\n",
       "      <th>正常客户数</th>\n",
       "      <th>违约客户占比</th>\n",
       "    </tr>\n",
       "    <tr>\n",
       "      <th>逾期30-59天次数</th>\n",
       "      <th></th>\n",
       "      <th></th>\n",
       "      <th></th>\n",
       "      <th></th>\n",
       "    </tr>\n",
       "  </thead>\n",
       "  <tbody>\n",
       "    <tr>\n",
       "      <th>[0, 1)</th>\n",
       "      <td>120918</td>\n",
       "      <td>4577</td>\n",
       "      <td>116341</td>\n",
       "      <td>0.037852</td>\n",
       "    </tr>\n",
       "    <tr>\n",
       "      <th>[1, 2)</th>\n",
       "      <td>14913</td>\n",
       "      <td>2010</td>\n",
       "      <td>12903</td>\n",
       "      <td>0.134782</td>\n",
       "    </tr>\n",
       "    <tr>\n",
       "      <th>[2, 3)</th>\n",
       "      <td>4102</td>\n",
       "      <td>977</td>\n",
       "      <td>3125</td>\n",
       "      <td>0.238176</td>\n",
       "    </tr>\n",
       "    <tr>\n",
       "      <th>[3, 4)</th>\n",
       "      <td>1518</td>\n",
       "      <td>472</td>\n",
       "      <td>1046</td>\n",
       "      <td>0.310935</td>\n",
       "    </tr>\n",
       "    <tr>\n",
       "      <th>[4, 5)</th>\n",
       "      <td>628</td>\n",
       "      <td>249</td>\n",
       "      <td>379</td>\n",
       "      <td>0.396497</td>\n",
       "    </tr>\n",
       "    <tr>\n",
       "      <th>[5, 14)</th>\n",
       "      <td>480</td>\n",
       "      <td>209</td>\n",
       "      <td>271</td>\n",
       "      <td>0.435417</td>\n",
       "    </tr>\n",
       "  </tbody>\n",
       "</table>\n",
       "</div>"
      ],
      "text/plain": [
       "              客户总数  违约客户数   正常客户数    违约客户占比\n",
       "逾期30-59天次数                                 \n",
       "[0, 1)      120918   4577  116341  0.037852\n",
       "[1, 2)       14913   2010   12903  0.134782\n",
       "[2, 3)        4102    977    3125  0.238176\n",
       "[3, 4)        1518    472    1046  0.310935\n",
       "[4, 5)         628    249     379  0.396497\n",
       "[5, 14)        480    209     271  0.435417"
      ]
     },
     "execution_count": 24,
     "metadata": {},
     "output_type": "execute_result"
    }
   ],
   "source": [
    "bins_30 = [0,1,2,3,4,5,14]\n",
    "bins_60 = [0,1,2,3,4,12]\n",
    "bins_90 = [0,1,2,3,4,18]\n",
    "past30_cut = pd.cut(df[\"逾期30-59天次数\"],bins_30,right=False)\n",
    "past60_cut = pd.cut(df[\"逾期60-89天次数\"],bins_60,right=False)\n",
    "past90_cut = pd.cut(df[\"逾期90天次数\"],bins_90,right=False)\n",
    "\n",
    "past30_cut_grouped = df[\"是否违约\"].groupby(past30_cut).count()\n",
    "past30_cut_grouped_bad = df[\"是否违约\"].groupby(past30_cut).sum()\n",
    "df30 = pd.merge(pd.DataFrame(past30_cut_grouped),\n",
    "               pd.DataFrame(past30_cut_grouped_bad),\n",
    "               left_index=True,right_index=True)\n",
    "df30.rename(columns={\"是否违约_x\":\"客户总数\",\"是否违约_y\":\"违约客户数\"},inplace=True)\n",
    "df30.insert(2,\"正常客户数\",df30[\"客户总数\"]-df30[\"违约客户数\"])\n",
    "df30.insert(3,\"违约客户占比\",df30[\"违约客户数\"]/df30[\"客户总数\"])\n",
    "\n",
    "past60_cut_grouped = df[\"是否违约\"].groupby(past60_cut).count()\n",
    "past60_cut_grouped_bad = df[\"是否违约\"].groupby(past60_cut).sum()\n",
    "df60 = pd.merge(pd.DataFrame(past60_cut_grouped),\n",
    "               pd.DataFrame(past60_cut_grouped_bad),\n",
    "               left_index=True,right_index=True)\n",
    "df60.rename(columns={\"是否违约_x\":\"客户总数\",\"是否违约_y\":\"违约客户数\"},inplace=True)\n",
    "df60.insert(2,\"正常客户数\",df60[\"客户总数\"]-df60[\"违约客户数\"])\n",
    "df60.insert(3,\"违约客户占比\",df60[\"违约客户数\"]/df60[\"客户总数\"])\n",
    "\n",
    "past90_cut_grouped = df[\"是否违约\"].groupby(past90_cut).count()\n",
    "past90_cut_grouped_bad = df[\"是否违约\"].groupby(past90_cut).sum()\n",
    "df90 = pd.merge(pd.DataFrame(past90_cut_grouped),\n",
    "               pd.DataFrame(past90_cut_grouped_bad),\n",
    "               left_index=True,right_index=True)\n",
    "df90.rename(columns={\"是否违约_x\":\"客户总数\",\"是否违约_y\":\"违约客户数\"},inplace=True)\n",
    "df90.insert(2,\"正常客户数\",df90[\"客户总数\"]-df90[\"违约客户数\"])\n",
    "df90.insert(3,\"违约客户占比\",df90[\"违约客户数\"]/df90[\"客户总数\"])\n",
    "\n",
    "df30\n"
   ]
  },
  {
   "cell_type": "code",
   "execution_count": 25,
   "metadata": {},
   "outputs": [
    {
     "data": {
      "text/html": [
       "<div>\n",
       "<style scoped>\n",
       "    .dataframe tbody tr th:only-of-type {\n",
       "        vertical-align: middle;\n",
       "    }\n",
       "\n",
       "    .dataframe tbody tr th {\n",
       "        vertical-align: top;\n",
       "    }\n",
       "\n",
       "    .dataframe thead th {\n",
       "        text-align: right;\n",
       "    }\n",
       "</style>\n",
       "<table border=\"1\" class=\"dataframe\">\n",
       "  <thead>\n",
       "    <tr style=\"text-align: right;\">\n",
       "      <th></th>\n",
       "      <th>客户总数</th>\n",
       "      <th>违约客户数</th>\n",
       "      <th>正常客户数</th>\n",
       "      <th>违约客户占比</th>\n",
       "    </tr>\n",
       "    <tr>\n",
       "      <th>逾期60-89天次数</th>\n",
       "      <th></th>\n",
       "      <th></th>\n",
       "      <th></th>\n",
       "      <th></th>\n",
       "    </tr>\n",
       "  </thead>\n",
       "  <tbody>\n",
       "    <tr>\n",
       "      <th>[0, 1)</th>\n",
       "      <td>136232</td>\n",
       "      <td>6439</td>\n",
       "      <td>129793</td>\n",
       "      <td>0.047265</td>\n",
       "    </tr>\n",
       "    <tr>\n",
       "      <th>[1, 2)</th>\n",
       "      <td>5080</td>\n",
       "      <td>1439</td>\n",
       "      <td>3641</td>\n",
       "      <td>0.283268</td>\n",
       "    </tr>\n",
       "    <tr>\n",
       "      <th>[2, 3)</th>\n",
       "      <td>883</td>\n",
       "      <td>415</td>\n",
       "      <td>468</td>\n",
       "      <td>0.469989</td>\n",
       "    </tr>\n",
       "    <tr>\n",
       "      <th>[3, 4)</th>\n",
       "      <td>238</td>\n",
       "      <td>131</td>\n",
       "      <td>107</td>\n",
       "      <td>0.550420</td>\n",
       "    </tr>\n",
       "    <tr>\n",
       "      <th>[4, 12)</th>\n",
       "      <td>126</td>\n",
       "      <td>70</td>\n",
       "      <td>56</td>\n",
       "      <td>0.555556</td>\n",
       "    </tr>\n",
       "  </tbody>\n",
       "</table>\n",
       "</div>"
      ],
      "text/plain": [
       "              客户总数  违约客户数   正常客户数    违约客户占比\n",
       "逾期60-89天次数                                 \n",
       "[0, 1)      136232   6439  129793  0.047265\n",
       "[1, 2)        5080   1439    3641  0.283268\n",
       "[2, 3)         883    415     468  0.469989\n",
       "[3, 4)         238    131     107  0.550420\n",
       "[4, 12)        126     70      56  0.555556"
      ]
     },
     "execution_count": 25,
     "metadata": {},
     "output_type": "execute_result"
    }
   ],
   "source": [
    "df60"
   ]
  },
  {
   "cell_type": "code",
   "execution_count": 26,
   "metadata": {},
   "outputs": [
    {
     "data": {
      "text/html": [
       "<div>\n",
       "<style scoped>\n",
       "    .dataframe tbody tr th:only-of-type {\n",
       "        vertical-align: middle;\n",
       "    }\n",
       "\n",
       "    .dataframe tbody tr th {\n",
       "        vertical-align: top;\n",
       "    }\n",
       "\n",
       "    .dataframe thead th {\n",
       "        text-align: right;\n",
       "    }\n",
       "</style>\n",
       "<table border=\"1\" class=\"dataframe\">\n",
       "  <thead>\n",
       "    <tr style=\"text-align: right;\">\n",
       "      <th></th>\n",
       "      <th>客户总数</th>\n",
       "      <th>违约客户数</th>\n",
       "      <th>正常客户数</th>\n",
       "      <th>违约客户占比</th>\n",
       "    </tr>\n",
       "    <tr>\n",
       "      <th>逾期90天次数</th>\n",
       "      <th></th>\n",
       "      <th></th>\n",
       "      <th></th>\n",
       "      <th></th>\n",
       "    </tr>\n",
       "  </thead>\n",
       "  <tbody>\n",
       "    <tr>\n",
       "      <th>[0, 1)</th>\n",
       "      <td>135639</td>\n",
       "      <td>5823</td>\n",
       "      <td>129816</td>\n",
       "      <td>0.042930</td>\n",
       "    </tr>\n",
       "    <tr>\n",
       "      <th>[1, 2)</th>\n",
       "      <td>4647</td>\n",
       "      <td>1472</td>\n",
       "      <td>3175</td>\n",
       "      <td>0.316764</td>\n",
       "    </tr>\n",
       "    <tr>\n",
       "      <th>[2, 3)</th>\n",
       "      <td>1281</td>\n",
       "      <td>612</td>\n",
       "      <td>669</td>\n",
       "      <td>0.477752</td>\n",
       "    </tr>\n",
       "    <tr>\n",
       "      <th>[3, 4)</th>\n",
       "      <td>529</td>\n",
       "      <td>296</td>\n",
       "      <td>233</td>\n",
       "      <td>0.559546</td>\n",
       "    </tr>\n",
       "    <tr>\n",
       "      <th>[4, 18)</th>\n",
       "      <td>463</td>\n",
       "      <td>291</td>\n",
       "      <td>172</td>\n",
       "      <td>0.628510</td>\n",
       "    </tr>\n",
       "  </tbody>\n",
       "</table>\n",
       "</div>"
      ],
      "text/plain": [
       "           客户总数  违约客户数   正常客户数    违约客户占比\n",
       "逾期90天次数                                 \n",
       "[0, 1)   135639   5823  129816  0.042930\n",
       "[1, 2)     4647   1472    3175  0.316764\n",
       "[2, 3)     1281    612     669  0.477752\n",
       "[3, 4)      529    296     233  0.559546\n",
       "[4, 18)     463    291     172  0.628510"
      ]
     },
     "execution_count": 26,
     "metadata": {},
     "output_type": "execute_result"
    }
   ],
   "source": [
    "df90"
   ]
  },
  {
   "cell_type": "code",
   "execution_count": 27,
   "metadata": {
    "scrolled": false
   },
   "outputs": [
    {
     "data": {
      "text/plain": [
       "Text(0.5, 1.0, '逾期90天次数与客户数分布')"
      ]
     },
     "execution_count": 27,
     "metadata": {},
     "output_type": "execute_result"
    },
    {
     "data": {
      "image/png": "[encoded data removed]",
      "text/plain": [
       "<Figure size 576x216 with 3 Axes>"
      ]
     },
     "metadata": {
      "needs_background": "light"
     },
     "output_type": "display_data"
    }
   ],
   "source": [
    "fig,axes = plt.subplots(1,3,sharey=True,figsize=(8,3))\n",
    "ax30 = df30[[\"正常客户数\",\"违约客户数\"]].plot.bar(ax=axes[0])\n",
    "ax60 = df60[[\"正常客户数\",\"违约客户数\"]].plot.bar(ax=axes[1])\n",
    "ax90 = df90[[\"正常客户数\",\"违约客户数\"]].plot.bar(ax=axes[2])\n",
    "ax30.set_ylabel(\"客户数\")\n",
    "ax30.set_xticklabels([0,1,2,3,4,\"[5,14)\"],rotation=0,fontsize=8)\n",
    "ax60.set_xticklabels([0,1,2,3,\"[4,12)\"],rotation=0,fontsize=8)\n",
    "ax90.set_xticklabels([0,1,2,3,\"[4,18)\"],rotation=0,fontsize=8)\n",
    "ax30.set_xlabel(\"次数\",fontsize=8)\n",
    "ax60.set_xlabel(\"次数\",fontsize=8)\n",
    "ax90.set_xlabel(\"次数\",fontsize=8)\n",
    "ax30.set_title(\"逾期30-59天次数与客户数分布\",fontsize=9)\n",
    "ax60.set_title(\"逾期60-89天次数与客户数分布\",fontsize=9)\n",
    "ax90.set_title(\"逾期90天次数与客户数分布\",fontsize=9)"
   ]
  },
  {
   "cell_type": "code",
   "execution_count": 28,
   "metadata": {
    "scrolled": false
   },
   "outputs": [
    {
     "data": {
      "text/plain": [
       "Text(0.5, 0.98, '违约客户占比随逾期次数变化情况')"
      ]
     },
     "execution_count": 28,
     "metadata": {},
     "output_type": "execute_result"
    },
    {
     "data": {
      "image/png": "[encoded data removed]",
      "text/plain": [
       "<Figure size 288x648 with 3 Axes>"
      ]
     },
     "metadata": {
      "needs_background": "light"
     },
     "output_type": "display_data"
    }
   ],
   "source": [
    "fig,axes = plt.subplots(3,1,figsize=(4,9))\n",
    "\n",
    "ax301 = df30[\"违约客户占比\"].plot(ax=axes[0])\n",
    "ax601 = df60[\"违约客户占比\"].plot(ax=axes[1])\n",
    "ax901 = df90[\"违约客户占比\"].plot(ax=axes[2])\n",
    "plt.subplots_adjust(left=0.2,hspace=0.3,top=None)\n",
    "ax301.set_ylabel(\"违约客户占比\",fontsize=9)\n",
    "ax601.set_ylabel(\"违约客户占比\",fontsize=9)\n",
    "ax901.set_ylabel(\"违约客户占比\",fontsize=9)\n",
    "ax301.set_xticklabels([0,1,2,3,4,\"[5,14)\"],fontsize=9)\n",
    "ax601.set_xticklabels([0,1,2,3,\"[4,12)\"],fontsize=9)\n",
    "ax901.set_xticklabels([0,1,2,3,\"[4,18)\"],fontsize=9)\n",
    "fig.suptitle(\"违约客户占比随逾期次数变化情况\")\n"
   ]
  },
  {
   "cell_type": "markdown",
   "metadata": {},
   "source": [
    "在几个逾期期限内，表现为随着逾期次数增多，违约客户占比上升。可以解释为，发生过多次逾期的用户，经济状况更不稳定，更容易产生坏账。"
   ]
  },
  {
   "cell_type": "markdown",
   "metadata": {},
   "source": [
    "以上对违约客户可能具有的特征进行了分析，可以看出，较年轻、收入偏低或者是收入很高在20000-100000这个区间、亲属数量较多、之前有过数次逾期的客户，更容易发生违约风险。"
   ]
  },
  {
   "cell_type": "markdown",
   "metadata": {},
   "source": [
    "接下来检验变量之间的相关性，如果变量之间相关性显著，会使模型估计产生偏差，则在建模时可以减少一些变量，避免出现过拟合。"
   ]
  },
  {
   "cell_type": "code",
   "execution_count": 29,
   "metadata": {
    "scrolled": false
   },
   "outputs": [
    {
     "data": {
      "text/plain": [
       "[Text(0, 0.5, '用户ID'),\n",
       " Text(0, 1.5, '是否违约'),\n",
       " Text(0, 2.5, '可用额度比值'),\n",
       " Text(0, 3.5, '年龄'),\n",
       " Text(0, 4.5, '逾期30-59天次数'),\n",
       " Text(0, 5.5, '负债率'),\n",
       " Text(0, 6.5, '月收入'),\n",
       " Text(0, 7.5, '信贷数量'),\n",
       " Text(0, 8.5, '逾期90天次数'),\n",
       " Text(0, 9.5, '不动产贷款量'),\n",
       " Text(0, 10.5, '逾期60-89天次数'),\n",
       " Text(0, 11.5, '亲属数量')]"
      ]
     },
     "execution_count": 29,
     "metadata": {},
     "output_type": "execute_result"
    },
    {
     "data": {
      "image/png": "[encoded data removed]",
      "text/plain": [
       "<Figure size 576x576 with 2 Axes>"
      ]
     },
     "metadata": {
      "needs_background": "light"
     },
     "output_type": "display_data"
    }
   ],
   "source": [
    "corr = df.corr()\n",
    "xticks = list(corr.index)\n",
    "yticks = list(corr.index)\n",
    "plt.figure(figsize=(8,8))\n",
    "ax5 = sns.heatmap(corr,annot=True,annot_kws={'size':7})\n",
    "ax5.set_xticklabels(xticks,fontsize=8,rotation=30)\n",
    "ax5.set_yticklabels(yticks,fontsize=8)\n"
   ]
  },
  {
   "cell_type": "raw",
   "metadata": {},
   "source": [
    "热力图中，颜色越浅越亮表示相关性越大。可以看出，各变量之间的相关性都比较小，不需要进行处理。"
   ]
  },
  {
   "cell_type": "markdown",
   "metadata": {},
   "source": [
    "建模之前要进行特征选择，特征选择最重要的是要考虑特征对应变量的预测能力，过滤掉一些对于目标变量影响权重较小的特征。常用的评价指标有IV值、信息增益、基尼系数等。这里我们选用评分卡模型中常用的IV值来进行筛选。"
   ]
  },
  {
   "cell_type": "code",
   "execution_count": 30,
   "metadata": {},
   "outputs": [
    {
     "data": {
      "text/plain": [
       "[(0.521, 1.0], (0.148, 0.521], (-0.001, 0.0295], (0.0295, 0.148]]\n",
       "Categories (4, interval[float64]): [(-0.001, 0.0295] < (0.0295, 0.148] < (0.148, 0.521] < (0.521, 1.0]]"
      ]
     },
     "execution_count": 30,
     "metadata": {},
     "output_type": "execute_result"
    }
   ],
   "source": [
    "#WOE分组\n",
    "cut1 = pd.qcut(df[\"可用额度比值\"],4)\n",
    "cut2 = pd.qcut(df[\"年龄\"],8)\n",
    "bins3 = [-1,0,1,3,5,13]\n",
    "cut3 = pd.cut(df[\"逾期30-59天次数\"],bins3)\n",
    "cut4 = pd.qcut(df[\"负债率\"],3)\n",
    "cut5 = pd.qcut(df[\"月收入\"],4)\n",
    "cut6 = pd.qcut(df[\"信贷数量\"],4)\n",
    "bins7 = [-1,0,1,3,5,20]\n",
    "cut7 = pd.cut(df[\"逾期90天次数\"],bins7)\n",
    "bins8 = [-1,0,1,2,3,33]\n",
    "cut8 = pd.cut(df[\"不动产贷款量\"],bins8)\n",
    "bins9 = [-1,0,1,3,12]\n",
    "cut9 = pd.cut(df[\"逾期60-89天次数\"],bins9)\n",
    "bins10 = [-1,0,1,2,3,5,21]\n",
    "cut10 = pd.cut(df[\"亲属数量\"],bins10)\n",
    "cut1.unique()"
   ]
  },
  {
   "cell_type": "code",
   "execution_count": 31,
   "metadata": {},
   "outputs": [],
   "source": [
    "#计算WOE值，分组内响应和未响应的比值/总体响应和未响应比值 的对数\n",
    "#总体的违约客户比率\n",
    "rate = df[\"是否违约\"].sum()/df[\"是否违约\"].count()\n",
    "\n",
    "def get_woe(cut):\n",
    "    grouped = df[\"是否违约\"].groupby(cut).value_counts()\n",
    "    grouped = grouped.unstack()\n",
    "    woe = np.log(grouped.iloc[:,1]/grouped.iloc[:,0]/rate)\n",
    "    return woe\n",
    "\n",
    "cut1_woe = get_woe(cut1)\n",
    "cut2_woe = get_woe(cut2)\n",
    "cut3_woe = get_woe(cut3)\n",
    "cut4_woe = get_woe(cut4)\n",
    "cut5_woe = get_woe(cut5)\n",
    "cut6_woe = get_woe(cut6)\n",
    "cut7_woe = get_woe(cut7)\n",
    "cut8_woe = get_woe(cut8)\n",
    "cut9_woe = get_woe(cut9)\n",
    "cut10_woe = get_woe(cut10)"
   ]
  },
  {
   "cell_type": "code",
   "execution_count": 32,
   "metadata": {},
   "outputs": [
    {
     "data": {
      "text/plain": [
       "[Text(0, 0, '可用额度比值'),\n",
       " Text(0, 0, '年龄'),\n",
       " Text(0, 0, '逾期30-59天次数'),\n",
       " Text(0, 0, '负债率'),\n",
       " Text(0, 0, '月收入'),\n",
       " Text(0, 0, '信贷数量'),\n",
       " Text(0, 0, '逾期90天次数'),\n",
       " Text(0, 0, '不动产贷款量'),\n",
       " Text(0, 0, '逾期60-89天次数'),\n",
       " Text(0, 0, '亲属数量')]"
      ]
     },
     "execution_count": 32,
     "metadata": {},
     "output_type": "execute_result"
    },
    {
     "data": {
      "image/png": "[encoded data removed]",
      "text/plain": [
       "<Figure size 432x288 with 1 Axes>"
      ]
     },
     "metadata": {
      "needs_background": "light"
     },
     "output_type": "display_data"
    }
   ],
   "source": [
    "#计算IV值 （分组内响应占总体响应比率-分组内未响应占总体未响应比率）*WOE\n",
    "def get_IV(cut,cut_woe):\n",
    "    grouped = df[\"是否违约\"].groupby(cut).value_counts()\n",
    "    grouped = grouped.unstack()\n",
    "    IV = ((grouped.iloc[:,1]/df[\"是否违约\"].sum()-grouped.iloc[:,0]/\n",
    "           (df[\"是否违约\"].count()-df[\"是否违约\"].sum()))*cut_woe).sum()\n",
    "    return IV\n",
    "\n",
    "cut1_IV = get_IV(cut1,cut1_woe)\n",
    "cut2_IV = get_IV(cut2,cut2_woe)\n",
    "cut3_IV = get_IV(cut3,cut3_woe)\n",
    "cut4_IV = get_IV(cut4,cut4_woe)\n",
    "cut5_IV = get_IV(cut5,cut5_woe)\n",
    "cut6_IV = get_IV(cut6,cut6_woe)\n",
    "cut7_IV = get_IV(cut7,cut7_woe)\n",
    "cut8_IV = get_IV(cut8,cut8_woe)\n",
    "cut9_IV = get_IV(cut9,cut9_woe)\n",
    "cut10_IV = get_IV(cut10,cut10_woe)\n",
    "\n",
    "df_IV = pd.DataFrame([cut1_IV,cut2_IV,cut3_IV,cut4_IV,cut5_IV,cut6_IV,cut7_IV,cut8_IV,cut9_IV,cut10_IV],\n",
    "                    index=df.columns[2:])\n",
    "ax = df_IV.plot.bar()\n",
    "for a,b in zip(range(10),df_IV.values):\n",
    "    plt.text(a,b,'%.2f' % b, ha='center', va='bottom',fontsize=9)\n",
    "ax.set_xticklabels(df_IV.index,rotation=45)"
   ]
  },
  {
   "cell_type": "markdown",
   "metadata": {},
   "source": [
    "可以看出，“负债率”、“月收入”、“信贷数量”、“不动产贷款量”、“亲属数量”这几个特征的IV值很低，表示对应变量的影响比较小，所以将这些指标过滤掉。"
   ]
  },
  {
   "cell_type": "code",
   "execution_count": 33,
   "metadata": {},
   "outputs": [
    {
     "data": {
      "text/html": [
       "<div>\n",
       "<style scoped>\n",
       "    .dataframe tbody tr th:only-of-type {\n",
       "        vertical-align: middle;\n",
       "    }\n",
       "\n",
       "    .dataframe tbody tr th {\n",
       "        vertical-align: top;\n",
       "    }\n",
       "\n",
       "    .dataframe thead th {\n",
       "        text-align: right;\n",
       "    }\n",
       "</style>\n",
       "<table border=\"1\" class=\"dataframe\">\n",
       "  <thead>\n",
       "    <tr style=\"text-align: right;\">\n",
       "      <th></th>\n",
       "      <th>是否违约</th>\n",
       "      <th>可用额度比值</th>\n",
       "      <th>年龄</th>\n",
       "      <th>逾期30-59天次数</th>\n",
       "      <th>逾期90天次数</th>\n",
       "      <th>逾期60-89天次数</th>\n",
       "    </tr>\n",
       "  </thead>\n",
       "  <tbody>\n",
       "    <tr>\n",
       "      <th>0</th>\n",
       "      <td>1</td>\n",
       "      <td>1.105899</td>\n",
       "      <td>0.308401</td>\n",
       "      <td>1.763114</td>\n",
       "      <td>-0.283907</td>\n",
       "      <td>-0.183172</td>\n",
       "    </tr>\n",
       "    <tr>\n",
       "      <th>1</th>\n",
       "      <td>0</td>\n",
       "      <td>1.105899</td>\n",
       "      <td>0.378321</td>\n",
       "      <td>-0.415086</td>\n",
       "      <td>-0.283907</td>\n",
       "      <td>-0.183172</td>\n",
       "    </tr>\n",
       "    <tr>\n",
       "      <th>2</th>\n",
       "      <td>0</td>\n",
       "      <td>1.105899</td>\n",
       "      <td>0.378321</td>\n",
       "      <td>0.961071</td>\n",
       "      <td>2.051710</td>\n",
       "      <td>-0.183172</td>\n",
       "    </tr>\n",
       "    <tr>\n",
       "      <th>3</th>\n",
       "      <td>0</td>\n",
       "      <td>-0.185964</td>\n",
       "      <td>0.579597</td>\n",
       "      <td>-0.415086</td>\n",
       "      <td>-0.283907</td>\n",
       "      <td>-0.183172</td>\n",
       "    </tr>\n",
       "    <tr>\n",
       "      <th>4</th>\n",
       "      <td>0</td>\n",
       "      <td>1.105899</td>\n",
       "      <td>0.227946</td>\n",
       "      <td>0.961071</td>\n",
       "      <td>-0.283907</td>\n",
       "      <td>-0.183172</td>\n",
       "    </tr>\n",
       "  </tbody>\n",
       "</table>\n",
       "</div>"
      ],
      "text/plain": [
       "   是否违约    可用额度比值        年龄  逾期30-59天次数   逾期90天次数  逾期60-89天次数\n",
       "0     1  1.105899  0.308401    1.763114 -0.283907   -0.183172\n",
       "1     0  1.105899  0.378321   -0.415086 -0.283907   -0.183172\n",
       "2     0  1.105899  0.378321    0.961071  2.051710   -0.183172\n",
       "3     0 -0.185964  0.579597   -0.415086 -0.283907   -0.183172\n",
       "4     0  1.105899  0.227946    0.961071 -0.283907   -0.183172"
      ]
     },
     "execution_count": 33,
     "metadata": {},
     "output_type": "execute_result"
    }
   ],
   "source": [
    "#将原始数据用离散化后的woe值替换\n",
    "def replace_data(cut,cut_woe):\n",
    "    a = []\n",
    "    for i in cut.unique():\n",
    "        a.append(i)\n",
    "        a.sort()    \n",
    "    for j in range(len(a)):\n",
    "        cut.replace(a[j],cut_woe.values[j],inplace=True)\n",
    "    return cut\n",
    "\n",
    "df_new = pd.DataFrame()\n",
    "df_new[\"是否违约\"] = df[\"是否违约\"]\n",
    "df_new[\"可用额度比值\"] = replace_data(cut1,cut1_woe)\n",
    "df_new[\"年龄\"] = replace_data(cut2,cut2_woe)\n",
    "df_new[\"逾期30-59天次数\"] = replace_data(cut3,cut3_woe)\n",
    "df_new[\"逾期90天次数\"] = replace_data(cut7,cut7_woe)\n",
    "df_new[\"逾期60-89天次数\"] = replace_data(cut9,cut9_woe)\n",
    "df_new.head(5)"
   ]
  },
  {
   "cell_type": "code",
   "execution_count": 34,
   "metadata": {},
   "outputs": [
    {
     "name": "stdout",
     "output_type": "stream",
     "text": [
      "准确率为： 0.9416619902731014\n"
     ]
    }
   ],
   "source": [
    "#模型训练\n",
    "#采用信用评分卡常用的逻辑回归算法来进行模型训练\n",
    "\n",
    "from sklearn.linear_model import LogisticRegression\n",
    "from sklearn.model_selection import train_test_split\n",
    "from sklearn import metrics\n",
    "\n",
    "x = df_new.iloc[:,1:]\n",
    "y = df_new.iloc[:,0]\n",
    "\n",
    "x_train,x_test,y_train,y_test = train_test_split(x,y,test_size=0.3)\n",
    "clf = LogisticRegression(solver='liblinear').fit(x_train,y_train)\n",
    "predicted = clf.predict(x_test)\n",
    "\n",
    "print(\"准确率为：\",metrics.accuracy_score(y_test,predicted))\n"
   ]
  },
  {
   "cell_type": "markdown",
   "metadata": {},
   "source": [
    "得到的模型预测准确率为0.9417，说明训练结果还不错。"
   ]
  },
  {
   "cell_type": "code",
   "execution_count": 35,
   "metadata": {},
   "outputs": [
    {
     "data": {
      "text/plain": [
       "array([[0.65879931, 0.53643728, 0.55803354, 0.60597197, 0.41908556]])"
      ]
     },
     "execution_count": 35,
     "metadata": {},
     "output_type": "execute_result"
    }
   ],
   "source": [
    "coefs = clf.coef_\n",
    "coefs"
   ]
  },
  {
   "cell_type": "code",
   "execution_count": 36,
   "metadata": {},
   "outputs": [
    {
     "name": "stdout",
     "output_type": "stream",
     "text": [
      "可用额度比值各分组对应的得分: [-22.0, -20.0, -4.0, 21.0]\n",
      "年龄各分组对应的得分: [9.0, 6.0, 5.0, 4.0, 1.0, -5.0, -12.0, -15.0]\n",
      "逾期30-59天次数各分组对应的得分: [-7.0, 15.0, 28.0, 39.0, 43.0]\n",
      "逾期90天次数各分组对应的得分: [-5.0, 36.0, 49.0, 58.0, 59.0]\n",
      "逾期60-89天次数各分组对应的得分: [-2.0, 23.0, 33.0, 37.0]\n"
     ]
    }
   ],
   "source": [
    "#设基础分值为500分，坏好比为1/20，坏好比减小一倍分数加20分。score=q-p*log(坏/好)\n",
    "p = 20/np.log(2)\n",
    "q = 500 - 20*np.log(20)/np.log(2)\n",
    "\n",
    "#根据得到的模型中各变量的相关系数coef，计算每个woe值对应的得分\n",
    "def get_score(coef,woe,factor):\n",
    "    scores = []\n",
    "    for w in woe:\n",
    "        score = round(coef*w*factor,0)\n",
    "        scores.append(score)\n",
    "    return scores\n",
    "\n",
    "#计算每个变量中各种分箱的得分\n",
    "score1 = get_score(coefs[0][0],cut1_woe,p)\n",
    "score2 = get_score(coefs[0][1],cut2_woe,p)\n",
    "score3 = get_score(coefs[0][2],cut3_woe,p)\n",
    "score7 = get_score(coefs[0][3],cut7_woe,p)\n",
    "score9 = get_score(coefs[0][4],cut9_woe,p)\n",
    "\n",
    "#显示每个变量对应的得分列表\n",
    "print(\"可用额度比值各分组对应的得分:\",score1)\n",
    "print(\"年龄各分组对应的得分:\",score2)\n",
    "print(\"逾期30-59天次数各分组对应的得分:\",score3)\n",
    "print(\"逾期90天次数各分组对应的得分:\",score7)\n",
    "print(\"逾期60-89天次数各分组对应的得分:\",score9)"
   ]
  },
  {
   "cell_type": "code",
   "execution_count": 37,
   "metadata": {},
   "outputs": [
    {
     "data": {
      "text/html": [
       "<div>\n",
       "<style scoped>\n",
       "    .dataframe tbody tr th:only-of-type {\n",
       "        vertical-align: middle;\n",
       "    }\n",
       "\n",
       "    .dataframe tbody tr th {\n",
       "        vertical-align: top;\n",
       "    }\n",
       "\n",
       "    .dataframe thead th {\n",
       "        text-align: right;\n",
       "    }\n",
       "</style>\n",
       "<table border=\"1\" class=\"dataframe\">\n",
       "  <thead>\n",
       "    <tr style=\"text-align: right;\">\n",
       "      <th></th>\n",
       "      <th>变量</th>\n",
       "      <th>分组</th>\n",
       "      <th>计分</th>\n",
       "    </tr>\n",
       "  </thead>\n",
       "  <tbody>\n",
       "    <tr>\n",
       "      <th>0</th>\n",
       "      <td>可用额度比值</td>\n",
       "      <td>(-0.001, 0.0295]</td>\n",
       "      <td>-21.0</td>\n",
       "    </tr>\n",
       "    <tr>\n",
       "      <th>1</th>\n",
       "      <td>可用额度比值</td>\n",
       "      <td>(0.0295, 0.148]</td>\n",
       "      <td>-20.0</td>\n",
       "    </tr>\n",
       "    <tr>\n",
       "      <th>2</th>\n",
       "      <td>可用额度比值</td>\n",
       "      <td>(0.148, 0.521]</td>\n",
       "      <td>-3.0</td>\n",
       "    </tr>\n",
       "    <tr>\n",
       "      <th>3</th>\n",
       "      <td>可用额度比值</td>\n",
       "      <td>(0.521, 1.0]</td>\n",
       "      <td>21.0</td>\n",
       "    </tr>\n",
       "    <tr>\n",
       "      <th>4</th>\n",
       "      <td>年龄</td>\n",
       "      <td>(20.999, 35.0]</td>\n",
       "      <td>9.0</td>\n",
       "    </tr>\n",
       "    <tr>\n",
       "      <th>5</th>\n",
       "      <td>年龄</td>\n",
       "      <td>(35.0, 41.0]</td>\n",
       "      <td>6.0</td>\n",
       "    </tr>\n",
       "    <tr>\n",
       "      <th>6</th>\n",
       "      <td>年龄</td>\n",
       "      <td>(41.0, 47.0]</td>\n",
       "      <td>5.0</td>\n",
       "    </tr>\n",
       "    <tr>\n",
       "      <th>7</th>\n",
       "      <td>年龄</td>\n",
       "      <td>(47.0, 52.0]</td>\n",
       "      <td>4.0</td>\n",
       "    </tr>\n",
       "    <tr>\n",
       "      <th>8</th>\n",
       "      <td>年龄</td>\n",
       "      <td>(52.0, 57.0]</td>\n",
       "      <td>1.0</td>\n",
       "    </tr>\n",
       "    <tr>\n",
       "      <th>9</th>\n",
       "      <td>年龄</td>\n",
       "      <td>(57.0, 63.0]</td>\n",
       "      <td>-5.0</td>\n",
       "    </tr>\n",
       "    <tr>\n",
       "      <th>10</th>\n",
       "      <td>年龄</td>\n",
       "      <td>(63.0, 70.0]</td>\n",
       "      <td>-12.0</td>\n",
       "    </tr>\n",
       "    <tr>\n",
       "      <th>11</th>\n",
       "      <td>年龄</td>\n",
       "      <td>(70.0, 107.0]</td>\n",
       "      <td>-15.0</td>\n",
       "    </tr>\n",
       "    <tr>\n",
       "      <th>12</th>\n",
       "      <td>逾期30-59天次数</td>\n",
       "      <td>(-1, 0]</td>\n",
       "      <td>-7.0</td>\n",
       "    </tr>\n",
       "    <tr>\n",
       "      <th>13</th>\n",
       "      <td>逾期30-59天次数</td>\n",
       "      <td>(0, 1]</td>\n",
       "      <td>15.0</td>\n",
       "    </tr>\n",
       "    <tr>\n",
       "      <th>14</th>\n",
       "      <td>逾期30-59天次数</td>\n",
       "      <td>(1, 3]</td>\n",
       "      <td>28.0</td>\n",
       "    </tr>\n",
       "    <tr>\n",
       "      <th>15</th>\n",
       "      <td>逾期30-59天次数</td>\n",
       "      <td>(3, 5]</td>\n",
       "      <td>39.0</td>\n",
       "    </tr>\n",
       "    <tr>\n",
       "      <th>16</th>\n",
       "      <td>逾期30-59天次数</td>\n",
       "      <td>(5, 13]</td>\n",
       "      <td>43.0</td>\n",
       "    </tr>\n",
       "    <tr>\n",
       "      <th>17</th>\n",
       "      <td>逾期90天次数</td>\n",
       "      <td>(-1, 0]</td>\n",
       "      <td>-5.0</td>\n",
       "    </tr>\n",
       "    <tr>\n",
       "      <th>18</th>\n",
       "      <td>逾期90天次数</td>\n",
       "      <td>(0, 1]</td>\n",
       "      <td>35.0</td>\n",
       "    </tr>\n",
       "    <tr>\n",
       "      <th>19</th>\n",
       "      <td>逾期90天次数</td>\n",
       "      <td>(1, 3]</td>\n",
       "      <td>48.0</td>\n",
       "    </tr>\n",
       "    <tr>\n",
       "      <th>20</th>\n",
       "      <td>逾期90天次数</td>\n",
       "      <td>(3, 5]</td>\n",
       "      <td>57.0</td>\n",
       "    </tr>\n",
       "    <tr>\n",
       "      <th>21</th>\n",
       "      <td>逾期90天次数</td>\n",
       "      <td>(5, 20]</td>\n",
       "      <td>57.0</td>\n",
       "    </tr>\n",
       "    <tr>\n",
       "      <th>22</th>\n",
       "      <td>逾期60-89天次数</td>\n",
       "      <td>(-1, 0]</td>\n",
       "      <td>-2.0</td>\n",
       "    </tr>\n",
       "    <tr>\n",
       "      <th>23</th>\n",
       "      <td>逾期60-89天次数</td>\n",
       "      <td>(0, 1]</td>\n",
       "      <td>24.0</td>\n",
       "    </tr>\n",
       "    <tr>\n",
       "      <th>24</th>\n",
       "      <td>逾期60-89天次数</td>\n",
       "      <td>(1, 3]</td>\n",
       "      <td>35.0</td>\n",
       "    </tr>\n",
       "    <tr>\n",
       "      <th>25</th>\n",
       "      <td>逾期60-89天次数</td>\n",
       "      <td>(3, 12]</td>\n",
       "      <td>38.0</td>\n",
       "    </tr>\n",
       "  </tbody>\n",
       "</table>\n",
       "</div>"
      ],
      "text/plain": [
       "            变量                分组    计分\n",
       "0       可用额度比值  (-0.001, 0.0295] -21.0\n",
       "1       可用额度比值   (0.0295, 0.148] -20.0\n",
       "2       可用额度比值    (0.148, 0.521]  -3.0\n",
       "3       可用额度比值      (0.521, 1.0]  21.0\n",
       "4           年龄    (20.999, 35.0]   9.0\n",
       "5           年龄      (35.0, 41.0]   6.0\n",
       "6           年龄      (41.0, 47.0]   5.0\n",
       "7           年龄      (47.0, 52.0]   4.0\n",
       "8           年龄      (52.0, 57.0]   1.0\n",
       "9           年龄      (57.0, 63.0]  -5.0\n",
       "10          年龄      (63.0, 70.0] -12.0\n",
       "11          年龄     (70.0, 107.0] -15.0\n",
       "12  逾期30-59天次数           (-1, 0]  -7.0\n",
       "13  逾期30-59天次数            (0, 1]  15.0\n",
       "14  逾期30-59天次数            (1, 3]  28.0\n",
       "15  逾期30-59天次数            (3, 5]  39.0\n",
       "16  逾期30-59天次数           (5, 13]  43.0\n",
       "17     逾期90天次数           (-1, 0]  -5.0\n",
       "18     逾期90天次数            (0, 1]  35.0\n",
       "19     逾期90天次数            (1, 3]  48.0\n",
       "20     逾期90天次数            (3, 5]  57.0\n",
       "21     逾期90天次数           (5, 20]  57.0\n",
       "22  逾期60-89天次数           (-1, 0]  -2.0\n",
       "23  逾期60-89天次数            (0, 1]  24.0\n",
       "24  逾期60-89天次数            (1, 3]  35.0\n",
       "25  逾期60-89天次数           (3, 12]  38.0"
      ]
     },
     "execution_count": 37,
     "metadata": {},
     "output_type": "execute_result"
    }
   ],
   "source": [
    "#可得到评分卡\n",
    "score_card = pd.DataFrame({'变量':['可用额度比值','可用额度比值','可用额度比值','可用额度比值',\n",
    "                                '年龄','年龄','年龄','年龄','年龄','年龄','年龄','年龄',\n",
    "                                '逾期30-59天次数','逾期30-59天次数','逾期30-59天次数','逾期30-59天次数','逾期30-59天次数',\n",
    "                                '逾期90天次数','逾期90天次数','逾期90天次数','逾期90天次数','逾期90天次数',\n",
    "                                '逾期60-89天次数','逾期60-89天次数','逾期60-89天次数','逾期60-89天次数',],\n",
    "                           '分组':['(-0.001, 0.0295]','(0.0295, 0.148]','(0.148, 0.521]','(0.521, 1.0]',\n",
    "                                '(20.999, 35.0]','(35.0, 41.0]','(41.0, 47.0]','(47.0, 52.0]','(52.0, 57.0]',\n",
    "                                '(57.0, 63.0]','(63.0, 70.0]','(70.0, 107.0]',\n",
    "                                '(-1, 0]','(0, 1]','(1, 3]','(3, 5]','(5, 13]',\n",
    "                                '(-1, 0]','(0, 1]','(1, 3]','(3, 5]','(5, 20]',\n",
    "                                '(-1, 0]','(0, 1]','(1, 3]','(3, 12]'],\n",
    "                           '计分':[-21.0, -20.0, -3.0, 21.0,\n",
    "                                 9.0, 6.0, 5.0, 4.0, 1.0, -5.0, -12.0, -15.0,\n",
    "                                -7.0, 15.0, 28.0, 39.0, 43.0,\n",
    "                                -5.0, 35.0, 48.0, 57.0, 57.0,\n",
    "                                -2.0, 24.0, 35.0, 38.0]\n",
    "                           })\n",
    "score_card"
   ]
  },
  {
   "cell_type": "markdown",
   "metadata": {},
   "source": [
    "根据上述评分卡，将某一用户的各特征变量对应到评分卡中的分组区间，得到每个变量的评分，最后由总评分=500-(各变量评分和）得到总得分，得分越低表示违约风险越大。例如：可用额度比值0.8、年龄40、逾期30-59天次数3、逾期90天次数0、逾期60-89天次数1，可得到这个用户的总评分=500-(21+6+28-5+24)=426"
   ]
  }
 ],
 "metadata": {
  "kernelspec": {
   "display_name": "Python 3",
   "language": "python",
   "name": "python3"
  },
  "language_info": {
   "codemirror_mode": {
    "name": "ipython",
    "version": 3
   },
   "file_extension": ".py",
   "mimetype": "text/x-python",
   "name": "python",
   "nbconvert_exporter": "python",
   "pygments_lexer": "ipython3",
   "version": "3.7.3"
  }
 },
 "nbformat": 4,
 "nbformat_minor": 2
}
